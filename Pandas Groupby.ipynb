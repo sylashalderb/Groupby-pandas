{
 "cells": [
  {
   "cell_type": "code",
   "execution_count": 13,
   "id": "f2bd5c64",
   "metadata": {},
   "outputs": [],
   "source": [
    "import pandas as pd\n",
    "import numpy as np\n"
   ]
  },
  {
   "cell_type": "code",
   "execution_count": 12,
   "id": "3ca299f2",
   "metadata": {},
   "outputs": [
    {
     "name": "stdout",
     "output_type": "stream",
     "text": [
      "              Value\n",
      "Category           \n",
      "A         12.333333\n",
      "B         21.000000\n"
     ]
    }
   ],
   "source": [
    "#Groupby\n",
    "data = {'Category': ['A', 'B', 'A', 'B', 'A', 'B'],\n",
    "        'Value': [10, 20, 15, 25, 12, 18]}\n",
    "\n",
    "df = pd.DataFrame(data)\n",
    "\n",
    "# Grouping by the 'Category' column\n",
    "grouped = df.groupby('Category')\n",
    "\n",
    "# Calculate the mean value for each group\n",
    "means = grouped.mean()\n",
    "\n",
    "print(means)"
   ]
  },
  {
   "cell_type": "code",
   "execution_count": 19,
   "id": "426c788b",
   "metadata": {},
   "outputs": [
    {
     "data": {
      "text/html": [
       "<div>\n",
       "<style scoped>\n",
       "    .dataframe tbody tr th:only-of-type {\n",
       "        vertical-align: middle;\n",
       "    }\n",
       "\n",
       "    .dataframe tbody tr th {\n",
       "        vertical-align: top;\n",
       "    }\n",
       "\n",
       "    .dataframe thead th {\n",
       "        text-align: right;\n",
       "    }\n",
       "</style>\n",
       "<table border=\"1\" class=\"dataframe\">\n",
       "  <thead>\n",
       "    <tr style=\"text-align: right;\">\n",
       "      <th></th>\n",
       "      <th>id</th>\n",
       "      <th>season</th>\n",
       "      <th>match_no</th>\n",
       "      <th>date</th>\n",
       "      <th>team_1</th>\n",
       "      <th>team_1_score</th>\n",
       "      <th>team_2</th>\n",
       "      <th>team_2_score</th>\n",
       "      <th>player_of_match</th>\n",
       "      <th>toss_winner</th>\n",
       "      <th>toss_decision</th>\n",
       "      <th>winner</th>\n",
       "      <th>venue</th>\n",
       "      <th>city</th>\n",
       "      <th>win_by_wickets</th>\n",
       "      <th>win_by_runs</th>\n",
       "      <th>result</th>\n",
       "      <th>umpire_1</th>\n",
       "      <th>umpire_2</th>\n",
       "    </tr>\n",
       "  </thead>\n",
       "  <tbody>\n",
       "    <tr>\n",
       "      <th>0</th>\n",
       "      <td>0</td>\n",
       "      <td>2011/12</td>\n",
       "      <td>Final</td>\n",
       "      <td>Feb 29 2012</td>\n",
       "      <td>Barisal Burners</td>\n",
       "      <td>140/7</td>\n",
       "      <td>Dhaka Gladiators</td>\n",
       "      <td>144/2</td>\n",
       "      <td>Imran Nazir</td>\n",
       "      <td>Dhaka Gladiators</td>\n",
       "      <td>field first</td>\n",
       "      <td>Dhaka</td>\n",
       "      <td>Shere Bangla National Stadium, Mirpur</td>\n",
       "      <td>Mirpur</td>\n",
       "      <td>8</td>\n",
       "      <td>0</td>\n",
       "      <td>8 wickets</td>\n",
       "      <td>David Orchard</td>\n",
       "      <td>Enamul Haque</td>\n",
       "    </tr>\n",
       "    <tr>\n",
       "      <th>1</th>\n",
       "      <td>30</td>\n",
       "      <td>2011/12</td>\n",
       "      <td>3rd</td>\n",
       "      <td>Feb 11 2012</td>\n",
       "      <td>Khulna Royal Bengals</td>\n",
       "      <td>175/5</td>\n",
       "      <td>Dhaka Gladiators</td>\n",
       "      <td>156/7</td>\n",
       "      <td>Andre Russell</td>\n",
       "      <td>Khulna Royal Bengals</td>\n",
       "      <td>bat first</td>\n",
       "      <td>Khulna</td>\n",
       "      <td>Shere Bangla National Stadium, Mirpur</td>\n",
       "      <td>Mirpur</td>\n",
       "      <td>0</td>\n",
       "      <td>19</td>\n",
       "      <td>19 runs</td>\n",
       "      <td>Jeremy Lloyds</td>\n",
       "      <td>Sharfuddoula</td>\n",
       "    </tr>\n",
       "  </tbody>\n",
       "</table>\n",
       "</div>"
      ],
      "text/plain": [
       "   id   season match_no         date                team_1 team_1_score  \\\n",
       "0   0  2011/12    Final  Feb 29 2012       Barisal Burners        140/7   \n",
       "1  30  2011/12      3rd  Feb 11 2012  Khulna Royal Bengals        175/5   \n",
       "\n",
       "             team_2 team_2_score player_of_match           toss_winner  \\\n",
       "0  Dhaka Gladiators        144/2     Imran Nazir      Dhaka Gladiators   \n",
       "1  Dhaka Gladiators        156/7   Andre Russell  Khulna Royal Bengals   \n",
       "\n",
       "  toss_decision  winner                                  venue    city  \\\n",
       "0   field first   Dhaka  Shere Bangla National Stadium, Mirpur  Mirpur   \n",
       "1     bat first  Khulna  Shere Bangla National Stadium, Mirpur  Mirpur   \n",
       "\n",
       "   win_by_wickets  win_by_runs     result       umpire_1      umpire_2  \n",
       "0               8            0  8 wickets  David Orchard  Enamul Haque  \n",
       "1               0           19    19 runs  Jeremy Lloyds  Sharfuddoula  "
      ]
     },
     "execution_count": 19,
     "metadata": {},
     "output_type": "execute_result"
    }
   ],
   "source": [
    "bpl = pd.read_csv(\"bpl.csv\")\n",
    "bpl.head(2)"
   ]
  },
  {
   "cell_type": "code",
   "execution_count": 20,
   "id": "8ecf4b2e",
   "metadata": {},
   "outputs": [
    {
     "data": {
      "text/plain": [
       "(311, 19)"
      ]
     },
     "execution_count": 20,
     "metadata": {},
     "output_type": "execute_result"
    }
   ],
   "source": [
    "bpl.shape"
   ]
  },
  {
   "cell_type": "code",
   "execution_count": 21,
   "id": "724f15db",
   "metadata": {},
   "outputs": [
    {
     "data": {
      "text/plain": [
       "Index(['id', 'season', 'match_no', 'date', 'team_1', 'team_1_score', 'team_2',\n",
       "       'team_2_score', 'player_of_match', 'toss_winner', 'toss_decision',\n",
       "       'winner', 'venue', 'city', 'win_by_wickets', 'win_by_runs', 'result',\n",
       "       'umpire_1', 'umpire_2'],\n",
       "      dtype='object')"
      ]
     },
     "execution_count": 21,
     "metadata": {},
     "output_type": "execute_result"
    }
   ],
   "source": [
    "bpl.columns"
   ]
  },
  {
   "cell_type": "code",
   "execution_count": 2,
   "id": "2fa8947d",
   "metadata": {},
   "outputs": [],
   "source": [
    "##What is the highest score achieved by each team across all matches?"
   ]
  },
  {
   "cell_type": "code",
   "execution_count": 37,
   "id": "0adbb06b",
   "metadata": {
    "collapsed": true
   },
   "outputs": [
    {
     "data": {
      "text/plain": [
       "team_2\n",
       "Barisal Bulls              75/4\n",
       "Barisal Burners           209/7\n",
       "Chattogram Challengers    170/3\n",
       "Chittagong Kings             97\n",
       "Chittagong Vikings           76\n",
       "Comilla Victorians         97/8\n",
       "Cumilla Warriors          222/7\n",
       "Dhaka Dynamites            96/4\n",
       "Dhaka Gladiators           88/8\n",
       "Dhaka Platoon               205\n",
       "Duronto Rajshahi          193/1\n",
       "Fortune Barishal             95\n",
       "Khulna Royal Bengals         89\n",
       "Khulna Tigers             207/2\n",
       "Khulna Titans                87\n",
       "Minister Group Dhaka      177/1\n",
       "Rajshahi Kings            190/5\n",
       "Rajshahi Royals            95/2\n",
       "Rangpur Rangers              84\n",
       "Rangpur Riders             94/7\n",
       "Sylhet Royals                74\n",
       "Sylhet Sixers              68/0\n",
       "Sylhet Sunrisers          186/6\n",
       "Sylhet Super Stars           79\n",
       "Sylhet Thunder              161\n",
       "Name: team_2_score, dtype: object"
      ]
     },
     "execution_count": 37,
     "metadata": {},
     "output_type": "execute_result"
    }
   ],
   "source": [
    "team_1_scores = bpl[['team_1', 'team_1_score', 'date']]\n",
    "team_2_scores = bpl[['team_2', 'team_2_score', 'date']]\n",
    "all_scores = pd.concat([team_1_scores, team_2_scores])\n",
    "\n",
    "highest_scores_by_team = all_scores.groupby('team_2')[\"team_2_score\"].max()\n",
    "\n",
    "highest_scores_by_team"
   ]
  },
  {
   "cell_type": "code",
   "execution_count": 3,
   "id": "86be5b6d",
   "metadata": {},
   "outputs": [],
   "source": [
    "#What is the count of matches played in each city?"
   ]
  },
  {
   "cell_type": "code",
   "execution_count": 38,
   "id": "3bc600b4",
   "metadata": {},
   "outputs": [
    {
     "data": {
      "text/plain": [
       "array(['Mirpur', 'Chittagong', 'Stadium', 'Chattogram', 'Khulna'],\n",
       "      dtype=object)"
      ]
     },
     "execution_count": 38,
     "metadata": {},
     "output_type": "execute_result"
    }
   ],
   "source": [
    "bpl[\"city\"].unique()"
   ]
  },
  {
   "cell_type": "code",
   "execution_count": 45,
   "id": "c979a082",
   "metadata": {},
   "outputs": [],
   "source": [
    "city_count = bpl.groupby(\"city\").count()"
   ]
  },
  {
   "cell_type": "code",
   "execution_count": 46,
   "id": "93342c18",
   "metadata": {},
   "outputs": [
    {
     "data": {
      "text/html": [
       "<div>\n",
       "<style scoped>\n",
       "    .dataframe tbody tr th:only-of-type {\n",
       "        vertical-align: middle;\n",
       "    }\n",
       "\n",
       "    .dataframe tbody tr th {\n",
       "        vertical-align: top;\n",
       "    }\n",
       "\n",
       "    .dataframe thead th {\n",
       "        text-align: right;\n",
       "    }\n",
       "</style>\n",
       "<table border=\"1\" class=\"dataframe\">\n",
       "  <thead>\n",
       "    <tr style=\"text-align: right;\">\n",
       "      <th></th>\n",
       "      <th>id</th>\n",
       "      <th>season</th>\n",
       "      <th>match_no</th>\n",
       "      <th>date</th>\n",
       "      <th>team_1</th>\n",
       "      <th>team_1_score</th>\n",
       "      <th>team_2</th>\n",
       "      <th>team_2_score</th>\n",
       "      <th>player_of_match</th>\n",
       "      <th>toss_winner</th>\n",
       "      <th>toss_decision</th>\n",
       "      <th>winner</th>\n",
       "      <th>venue</th>\n",
       "      <th>win_by_wickets</th>\n",
       "      <th>win_by_runs</th>\n",
       "      <th>result</th>\n",
       "      <th>umpire_1</th>\n",
       "      <th>umpire_2</th>\n",
       "    </tr>\n",
       "    <tr>\n",
       "      <th>city</th>\n",
       "      <th></th>\n",
       "      <th></th>\n",
       "      <th></th>\n",
       "      <th></th>\n",
       "      <th></th>\n",
       "      <th></th>\n",
       "      <th></th>\n",
       "      <th></th>\n",
       "      <th></th>\n",
       "      <th></th>\n",
       "      <th></th>\n",
       "      <th></th>\n",
       "      <th></th>\n",
       "      <th></th>\n",
       "      <th></th>\n",
       "      <th></th>\n",
       "      <th></th>\n",
       "      <th></th>\n",
       "    </tr>\n",
       "  </thead>\n",
       "  <tbody>\n",
       "    <tr>\n",
       "      <th>Chattogram</th>\n",
       "      <td>30</td>\n",
       "      <td>30</td>\n",
       "      <td>30</td>\n",
       "      <td>30</td>\n",
       "      <td>30</td>\n",
       "      <td>30</td>\n",
       "      <td>30</td>\n",
       "      <td>30</td>\n",
       "      <td>30</td>\n",
       "      <td>30</td>\n",
       "      <td>30</td>\n",
       "      <td>30</td>\n",
       "      <td>30</td>\n",
       "      <td>30</td>\n",
       "      <td>30</td>\n",
       "      <td>30</td>\n",
       "      <td>30</td>\n",
       "      <td>30</td>\n",
       "    </tr>\n",
       "    <tr>\n",
       "      <th>Chittagong</th>\n",
       "      <td>47</td>\n",
       "      <td>47</td>\n",
       "      <td>47</td>\n",
       "      <td>47</td>\n",
       "      <td>47</td>\n",
       "      <td>47</td>\n",
       "      <td>47</td>\n",
       "      <td>47</td>\n",
       "      <td>47</td>\n",
       "      <td>47</td>\n",
       "      <td>47</td>\n",
       "      <td>47</td>\n",
       "      <td>47</td>\n",
       "      <td>47</td>\n",
       "      <td>47</td>\n",
       "      <td>47</td>\n",
       "      <td>47</td>\n",
       "      <td>47</td>\n",
       "    </tr>\n",
       "    <tr>\n",
       "      <th>Khulna</th>\n",
       "      <td>8</td>\n",
       "      <td>8</td>\n",
       "      <td>8</td>\n",
       "      <td>8</td>\n",
       "      <td>8</td>\n",
       "      <td>8</td>\n",
       "      <td>8</td>\n",
       "      <td>8</td>\n",
       "      <td>8</td>\n",
       "      <td>8</td>\n",
       "      <td>8</td>\n",
       "      <td>8</td>\n",
       "      <td>8</td>\n",
       "      <td>8</td>\n",
       "      <td>8</td>\n",
       "      <td>8</td>\n",
       "      <td>8</td>\n",
       "      <td>8</td>\n",
       "    </tr>\n",
       "    <tr>\n",
       "      <th>Mirpur</th>\n",
       "      <td>204</td>\n",
       "      <td>204</td>\n",
       "      <td>204</td>\n",
       "      <td>204</td>\n",
       "      <td>204</td>\n",
       "      <td>204</td>\n",
       "      <td>204</td>\n",
       "      <td>204</td>\n",
       "      <td>204</td>\n",
       "      <td>204</td>\n",
       "      <td>204</td>\n",
       "      <td>204</td>\n",
       "      <td>204</td>\n",
       "      <td>204</td>\n",
       "      <td>204</td>\n",
       "      <td>204</td>\n",
       "      <td>204</td>\n",
       "      <td>204</td>\n",
       "    </tr>\n",
       "    <tr>\n",
       "      <th>Stadium</th>\n",
       "      <td>22</td>\n",
       "      <td>22</td>\n",
       "      <td>22</td>\n",
       "      <td>22</td>\n",
       "      <td>22</td>\n",
       "      <td>22</td>\n",
       "      <td>22</td>\n",
       "      <td>22</td>\n",
       "      <td>22</td>\n",
       "      <td>22</td>\n",
       "      <td>22</td>\n",
       "      <td>22</td>\n",
       "      <td>22</td>\n",
       "      <td>22</td>\n",
       "      <td>22</td>\n",
       "      <td>22</td>\n",
       "      <td>22</td>\n",
       "      <td>22</td>\n",
       "    </tr>\n",
       "  </tbody>\n",
       "</table>\n",
       "</div>"
      ],
      "text/plain": [
       "             id  season  match_no  date  team_1  team_1_score  team_2  \\\n",
       "city                                                                    \n",
       "Chattogram   30      30        30    30      30            30      30   \n",
       "Chittagong   47      47        47    47      47            47      47   \n",
       "Khulna        8       8         8     8       8             8       8   \n",
       "Mirpur      204     204       204   204     204           204     204   \n",
       "Stadium      22      22        22    22      22            22      22   \n",
       "\n",
       "            team_2_score  player_of_match  toss_winner  toss_decision  winner  \\\n",
       "city                                                                            \n",
       "Chattogram            30               30           30             30      30   \n",
       "Chittagong            47               47           47             47      47   \n",
       "Khulna                 8                8            8              8       8   \n",
       "Mirpur               204              204          204            204     204   \n",
       "Stadium               22               22           22             22      22   \n",
       "\n",
       "            venue  win_by_wickets  win_by_runs  result  umpire_1  umpire_2  \n",
       "city                                                                        \n",
       "Chattogram     30              30           30      30        30        30  \n",
       "Chittagong     47              47           47      47        47        47  \n",
       "Khulna          8               8            8       8         8         8  \n",
       "Mirpur        204             204          204     204       204       204  \n",
       "Stadium        22              22           22      22        22        22  "
      ]
     },
     "execution_count": 46,
     "metadata": {},
     "output_type": "execute_result"
    }
   ],
   "source": [
    "city_count"
   ]
  },
  {
   "cell_type": "code",
   "execution_count": 4,
   "id": "b1ca33a3",
   "metadata": {},
   "outputs": [],
   "source": [
    "#What is the total number of matches played in each season"
   ]
  },
  {
   "cell_type": "code",
   "execution_count": 47,
   "id": "f07f80dc",
   "metadata": {},
   "outputs": [
    {
     "data": {
      "text/plain": [
       "Index(['id', 'season', 'match_no', 'date', 'team_1', 'team_1_score', 'team_2',\n",
       "       'team_2_score', 'player_of_match', 'toss_winner', 'toss_decision',\n",
       "       'winner', 'venue', 'city', 'win_by_wickets', 'win_by_runs', 'result',\n",
       "       'umpire_1', 'umpire_2'],\n",
       "      dtype='object')"
      ]
     },
     "execution_count": 47,
     "metadata": {},
     "output_type": "execute_result"
    }
   ],
   "source": [
    "bpl.columns"
   ]
  },
  {
   "cell_type": "code",
   "execution_count": 52,
   "id": "1258f8dc",
   "metadata": {},
   "outputs": [
    {
     "data": {
      "text/plain": [
       "season\n",
       "2011/12    32\n",
       "2012/13    46\n",
       "2015/16    33\n",
       "2016/17    46\n",
       "2017/18    44\n",
       "2018/19    46\n",
       "2019/20    46\n",
       "2021/22    18\n",
       "dtype: int64"
      ]
     },
     "execution_count": 52,
     "metadata": {},
     "output_type": "execute_result"
    }
   ],
   "source": [
    "number_of_matches = bpl.groupby(\"season\").size()\n",
    "\n",
    "number_of_matches"
   ]
  },
  {
   "cell_type": "code",
   "execution_count": 6,
   "id": "5456f320",
   "metadata": {},
   "outputs": [],
   "source": [
    "#What is the count of matches played by each team in the BPL?"
   ]
  },
  {
   "cell_type": "code",
   "execution_count": 53,
   "id": "e2b3caa3",
   "metadata": {},
   "outputs": [
    {
     "data": {
      "text/plain": [
       "Index(['id', 'season', 'match_no', 'date', 'team_1', 'team_1_score', 'team_2',\n",
       "       'team_2_score', 'player_of_match', 'toss_winner', 'toss_decision',\n",
       "       'winner', 'venue', 'city', 'win_by_wickets', 'win_by_runs', 'result',\n",
       "       'umpire_1', 'umpire_2'],\n",
       "      dtype='object')"
      ]
     },
     "execution_count": 53,
     "metadata": {},
     "output_type": "execute_result"
    }
   ],
   "source": [
    "bpl.columns"
   ]
  },
  {
   "cell_type": "code",
   "execution_count": 54,
   "id": "4feae653",
   "metadata": {},
   "outputs": [],
   "source": [
    "team = pd.concat([bpl['team_1'],bpl['team_2']])"
   ]
  },
  {
   "cell_type": "code",
   "execution_count": 55,
   "id": "540091cb",
   "metadata": {},
   "outputs": [
    {
     "data": {
      "text/plain": [
       "0           Barisal Burners\n",
       "1      Khulna Royal Bengals\n",
       "2           Barisal Burners\n",
       "3           Barisal Burners\n",
       "4      Khulna Royal Bengals\n",
       "               ...         \n",
       "306        Duronto Rajshahi\n",
       "307         Barisal Burners\n",
       "308        Duronto Rajshahi\n",
       "309         Barisal Burners\n",
       "310    Khulna Royal Bengals\n",
       "Length: 622, dtype: object"
      ]
     },
     "execution_count": 55,
     "metadata": {},
     "output_type": "execute_result"
    }
   ],
   "source": [
    "team\n"
   ]
  },
  {
   "cell_type": "code",
   "execution_count": 62,
   "id": "8be5ac1b",
   "metadata": {},
   "outputs": [],
   "source": [
    "each_team_played_match = team.groupby(team).size()"
   ]
  },
  {
   "cell_type": "code",
   "execution_count": 63,
   "id": "14bf3842",
   "metadata": {},
   "outputs": [
    {
     "data": {
      "text/plain": [
       "Barisal Bulls             24\n",
       "Barisal Burners           24\n",
       "Chattogram Challengers    22\n",
       "Chittagong Kings          25\n",
       "Chittagong Vikings        47\n",
       "Comilla Victorians        57\n",
       "Cumilla Warriors          12\n",
       "Dhaka Dynamites           52\n",
       "Dhaka Gladiators          26\n",
       "Dhaka Platoon             13\n",
       "Duronto Rajshahi          24\n",
       "Fortune Barishal           6\n",
       "Khulna Royal Bengals      22\n",
       "Khulna Tigers             20\n",
       "Khulna Titans             38\n",
       "Minister Group Dhaka       6\n",
       "Rajshahi Kings            39\n",
       "Rajshahi Royals           15\n",
       "Rangpur Rangers           12\n",
       "Rangpur Riders            65\n",
       "Sylhet Royals             23\n",
       "Sylhet Sixers             23\n",
       "Sylhet Sunrisers           5\n",
       "Sylhet Super Stars        10\n",
       "Sylhet Thunder            12\n",
       "dtype: int64"
      ]
     },
     "execution_count": 63,
     "metadata": {},
     "output_type": "execute_result"
    }
   ],
   "source": [
    "each_team_played_match "
   ]
  },
  {
   "cell_type": "code",
   "execution_count": 7,
   "id": "0d9f0b35",
   "metadata": {},
   "outputs": [],
   "source": [
    "#What is the total number of wins by each team in the BPL?"
   ]
  },
  {
   "cell_type": "code",
   "execution_count": 64,
   "id": "3d10dfaa",
   "metadata": {},
   "outputs": [
    {
     "data": {
      "text/plain": [
       "Index(['id', 'season', 'match_no', 'date', 'team_1', 'team_1_score', 'team_2',\n",
       "       'team_2_score', 'player_of_match', 'toss_winner', 'toss_decision',\n",
       "       'winner', 'venue', 'city', 'win_by_wickets', 'win_by_runs', 'result',\n",
       "       'umpire_1', 'umpire_2'],\n",
       "      dtype='object')"
      ]
     },
     "execution_count": 64,
     "metadata": {},
     "output_type": "execute_result"
    }
   ],
   "source": [
    "bpl.columns"
   ]
  },
  {
   "cell_type": "code",
   "execution_count": 65,
   "id": "2783c61a",
   "metadata": {},
   "outputs": [],
   "source": [
    "team = pd.concat([bpl['team_1'],bpl['team_2']])"
   ]
  },
  {
   "cell_type": "code",
   "execution_count": 68,
   "id": "a0a9794d",
   "metadata": {},
   "outputs": [],
   "source": [
    "each_team_wins = team[bpl['winner'].notnull()].value_counts()"
   ]
  },
  {
   "cell_type": "code",
   "execution_count": 69,
   "id": "87d81ed8",
   "metadata": {},
   "outputs": [
    {
     "data": {
      "text/plain": [
       "Rangpur Riders            65\n",
       "Comilla Victorians        57\n",
       "Dhaka Dynamites           52\n",
       "Chittagong Vikings        47\n",
       "Rajshahi Kings            39\n",
       "Khulna Titans             38\n",
       "Dhaka Gladiators          26\n",
       "Chittagong Kings          25\n",
       "Barisal Burners           24\n",
       "Barisal Bulls             24\n",
       "Duronto Rajshahi          24\n",
       "Sylhet Royals             23\n",
       "Sylhet Sixers             23\n",
       "Khulna Royal Bengals      22\n",
       "Chattogram Challengers    22\n",
       "Khulna Tigers             20\n",
       "Rajshahi Royals           15\n",
       "Dhaka Platoon             13\n",
       "Sylhet Thunder            12\n",
       "Cumilla Warriors          12\n",
       "Rangpur Rangers           12\n",
       "Sylhet Super Stars        10\n",
       "Minister Group Dhaka       6\n",
       "Fortune Barishal           6\n",
       "Sylhet Sunrisers           5\n",
       "Name: count, dtype: int64"
      ]
     },
     "execution_count": 69,
     "metadata": {},
     "output_type": "execute_result"
    }
   ],
   "source": [
    "each_team_wins"
   ]
  },
  {
   "cell_type": "code",
   "execution_count": 8,
   "id": "066a2274",
   "metadata": {},
   "outputs": [],
   "source": [
    "#Which city has hosted the most matches, and which teams have won the most matches in that city?"
   ]
  },
  {
   "cell_type": "code",
   "execution_count": 70,
   "id": "a8f38b7e",
   "metadata": {},
   "outputs": [
    {
     "data": {
      "text/plain": [
       "Index(['id', 'season', 'match_no', 'date', 'team_1', 'team_1_score', 'team_2',\n",
       "       'team_2_score', 'player_of_match', 'toss_winner', 'toss_decision',\n",
       "       'winner', 'venue', 'city', 'win_by_wickets', 'win_by_runs', 'result',\n",
       "       'umpire_1', 'umpire_2'],\n",
       "      dtype='object')"
      ]
     },
     "execution_count": 70,
     "metadata": {},
     "output_type": "execute_result"
    }
   ],
   "source": [
    "bpl.columns"
   ]
  },
  {
   "cell_type": "code",
   "execution_count": 71,
   "id": "e4b3d444",
   "metadata": {},
   "outputs": [],
   "source": [
    "city_count_match = bpl[\"city\"].value_counts()"
   ]
  },
  {
   "cell_type": "code",
   "execution_count": 72,
   "id": "68f28da0",
   "metadata": {},
   "outputs": [
    {
     "data": {
      "text/plain": [
       "city\n",
       "Mirpur        204\n",
       "Chittagong     47\n",
       "Chattogram     30\n",
       "Stadium        22\n",
       "Khulna          8\n",
       "Name: count, dtype: int64"
      ]
     },
     "execution_count": 72,
     "metadata": {},
     "output_type": "execute_result"
    }
   ],
   "source": [
    "city_count_match"
   ]
  },
  {
   "cell_type": "code",
   "execution_count": 73,
   "id": "ea4005b9",
   "metadata": {},
   "outputs": [],
   "source": [
    "max_match = city_count_match.idxmax()"
   ]
  },
  {
   "cell_type": "code",
   "execution_count": 74,
   "id": "cd6acb64",
   "metadata": {},
   "outputs": [
    {
     "data": {
      "text/plain": [
       "'Mirpur'"
      ]
     },
     "execution_count": 74,
     "metadata": {},
     "output_type": "execute_result"
    }
   ],
   "source": [
    "max_match "
   ]
  },
  {
   "cell_type": "code",
   "execution_count": 76,
   "id": "5459fe90",
   "metadata": {},
   "outputs": [],
   "source": [
    "city_matches = bpl[bpl['city'] == max_match]"
   ]
  },
  {
   "cell_type": "code",
   "execution_count": 80,
   "id": "8e5ad30d",
   "metadata": {},
   "outputs": [
    {
     "data": {
      "text/html": [
       "<div>\n",
       "<style scoped>\n",
       "    .dataframe tbody tr th:only-of-type {\n",
       "        vertical-align: middle;\n",
       "    }\n",
       "\n",
       "    .dataframe tbody tr th {\n",
       "        vertical-align: top;\n",
       "    }\n",
       "\n",
       "    .dataframe thead th {\n",
       "        text-align: right;\n",
       "    }\n",
       "</style>\n",
       "<table border=\"1\" class=\"dataframe\">\n",
       "  <thead>\n",
       "    <tr style=\"text-align: right;\">\n",
       "      <th></th>\n",
       "      <th>id</th>\n",
       "      <th>season</th>\n",
       "      <th>match_no</th>\n",
       "      <th>date</th>\n",
       "      <th>team_1</th>\n",
       "      <th>team_1_score</th>\n",
       "      <th>team_2</th>\n",
       "      <th>team_2_score</th>\n",
       "      <th>player_of_match</th>\n",
       "      <th>toss_winner</th>\n",
       "      <th>toss_decision</th>\n",
       "      <th>winner</th>\n",
       "      <th>venue</th>\n",
       "      <th>city</th>\n",
       "      <th>win_by_wickets</th>\n",
       "      <th>win_by_runs</th>\n",
       "      <th>result</th>\n",
       "      <th>umpire_1</th>\n",
       "      <th>umpire_2</th>\n",
       "    </tr>\n",
       "  </thead>\n",
       "  <tbody>\n",
       "    <tr>\n",
       "      <th>0</th>\n",
       "      <td>0</td>\n",
       "      <td>2011/12</td>\n",
       "      <td>Final</td>\n",
       "      <td>Feb 29 2012</td>\n",
       "      <td>Barisal Burners</td>\n",
       "      <td>140/7</td>\n",
       "      <td>Dhaka Gladiators</td>\n",
       "      <td>144/2</td>\n",
       "      <td>Imran Nazir</td>\n",
       "      <td>Dhaka Gladiators</td>\n",
       "      <td>field first</td>\n",
       "      <td>Dhaka</td>\n",
       "      <td>Shere Bangla National Stadium, Mirpur</td>\n",
       "      <td>Mirpur</td>\n",
       "      <td>8</td>\n",
       "      <td>0</td>\n",
       "      <td>8 wickets</td>\n",
       "      <td>David Orchard</td>\n",
       "      <td>Enamul Haque</td>\n",
       "    </tr>\n",
       "    <tr>\n",
       "      <th>1</th>\n",
       "      <td>30</td>\n",
       "      <td>2011/12</td>\n",
       "      <td>3rd</td>\n",
       "      <td>Feb 11 2012</td>\n",
       "      <td>Khulna Royal Bengals</td>\n",
       "      <td>175/5</td>\n",
       "      <td>Dhaka Gladiators</td>\n",
       "      <td>156/7</td>\n",
       "      <td>Andre Russell</td>\n",
       "      <td>Khulna Royal Bengals</td>\n",
       "      <td>bat first</td>\n",
       "      <td>Khulna</td>\n",
       "      <td>Shere Bangla National Stadium, Mirpur</td>\n",
       "      <td>Mirpur</td>\n",
       "      <td>0</td>\n",
       "      <td>19</td>\n",
       "      <td>19 runs</td>\n",
       "      <td>Jeremy Lloyds</td>\n",
       "      <td>Sharfuddoula</td>\n",
       "    </tr>\n",
       "    <tr>\n",
       "      <th>2</th>\n",
       "      <td>26</td>\n",
       "      <td>2011/12</td>\n",
       "      <td>7th</td>\n",
       "      <td>Feb 13 2012</td>\n",
       "      <td>Barisal Burners</td>\n",
       "      <td>125</td>\n",
       "      <td>Khulna Royal Bengals</td>\n",
       "      <td>131/3</td>\n",
       "      <td>Dwayne Smith</td>\n",
       "      <td>Khulna Royal Bengals</td>\n",
       "      <td>field first</td>\n",
       "      <td>Khulna</td>\n",
       "      <td>Shere Bangla National Stadium, Mirpur</td>\n",
       "      <td>Mirpur</td>\n",
       "      <td>7</td>\n",
       "      <td>0</td>\n",
       "      <td>7 wickets</td>\n",
       "      <td>Enamul Haque</td>\n",
       "      <td>Jeremy Lloyds</td>\n",
       "    </tr>\n",
       "    <tr>\n",
       "      <th>3</th>\n",
       "      <td>29</td>\n",
       "      <td>2011/12</td>\n",
       "      <td>4th</td>\n",
       "      <td>Feb 11 2012</td>\n",
       "      <td>Barisal Burners</td>\n",
       "      <td>180/2</td>\n",
       "      <td>Duronto Rajshahi</td>\n",
       "      <td>158/9</td>\n",
       "      <td>Ahmed Shehzad</td>\n",
       "      <td>Barisal Burners</td>\n",
       "      <td>bat first</td>\n",
       "      <td>Barisal</td>\n",
       "      <td>Shere Bangla National Stadium, Mirpur</td>\n",
       "      <td>Mirpur</td>\n",
       "      <td>0</td>\n",
       "      <td>22</td>\n",
       "      <td>22 runs</td>\n",
       "      <td>David Orchard</td>\n",
       "      <td>Gazi Sohel</td>\n",
       "    </tr>\n",
       "    <tr>\n",
       "      <th>4</th>\n",
       "      <td>28</td>\n",
       "      <td>2011/12</td>\n",
       "      <td>5th</td>\n",
       "      <td>Feb 12 2012</td>\n",
       "      <td>Khulna Royal Bengals</td>\n",
       "      <td>171/3</td>\n",
       "      <td>Chittagong Kings</td>\n",
       "      <td>174/4</td>\n",
       "      <td>Nasir Jamshed</td>\n",
       "      <td>Khulna Royal Bengals</td>\n",
       "      <td>bat first</td>\n",
       "      <td>Chittagong</td>\n",
       "      <td>Shere Bangla National Stadium, Mirpur</td>\n",
       "      <td>Mirpur</td>\n",
       "      <td>6</td>\n",
       "      <td>0</td>\n",
       "      <td>6 wickets</td>\n",
       "      <td>David Orchard</td>\n",
       "      <td>Enamul Haque</td>\n",
       "    </tr>\n",
       "    <tr>\n",
       "      <th>...</th>\n",
       "      <td>...</td>\n",
       "      <td>...</td>\n",
       "      <td>...</td>\n",
       "      <td>...</td>\n",
       "      <td>...</td>\n",
       "      <td>...</td>\n",
       "      <td>...</td>\n",
       "      <td>...</td>\n",
       "      <td>...</td>\n",
       "      <td>...</td>\n",
       "      <td>...</td>\n",
       "      <td>...</td>\n",
       "      <td>...</td>\n",
       "      <td>...</td>\n",
       "      <td>...</td>\n",
       "      <td>...</td>\n",
       "      <td>...</td>\n",
       "      <td>...</td>\n",
       "      <td>...</td>\n",
       "    </tr>\n",
       "    <tr>\n",
       "      <th>306</th>\n",
       "      <td>6</td>\n",
       "      <td>2011/12</td>\n",
       "      <td>27th</td>\n",
       "      <td>Feb 26 2012</td>\n",
       "      <td>Khulna Royal Bengals</td>\n",
       "      <td>106</td>\n",
       "      <td>Duronto Rajshahi</td>\n",
       "      <td>110/2</td>\n",
       "      <td>Sean Ervine</td>\n",
       "      <td>Khulna Royal Bengals</td>\n",
       "      <td>bat first</td>\n",
       "      <td>Rajshahi</td>\n",
       "      <td>Shere Bangla National Stadium, Mirpur</td>\n",
       "      <td>Mirpur</td>\n",
       "      <td>8</td>\n",
       "      <td>0</td>\n",
       "      <td>8 wickets</td>\n",
       "      <td>David Orchard</td>\n",
       "      <td>Nadir Shah</td>\n",
       "    </tr>\n",
       "    <tr>\n",
       "      <th>307</th>\n",
       "      <td>5</td>\n",
       "      <td>2011/12</td>\n",
       "      <td>28th</td>\n",
       "      <td>Feb 26 2012</td>\n",
       "      <td>Chittagong Kings</td>\n",
       "      <td>150/9</td>\n",
       "      <td>Barisal Burners</td>\n",
       "      <td>151/5</td>\n",
       "      <td>Brad Hodge</td>\n",
       "      <td>Barisal Burners</td>\n",
       "      <td>field first</td>\n",
       "      <td>Barisal</td>\n",
       "      <td>Shere Bangla National Stadium, Mirpur</td>\n",
       "      <td>Mirpur</td>\n",
       "      <td>5</td>\n",
       "      <td>0</td>\n",
       "      <td>5 wickets</td>\n",
       "      <td>Gazi Sohel</td>\n",
       "      <td>Jeremy Lloyds</td>\n",
       "    </tr>\n",
       "    <tr>\n",
       "      <th>308</th>\n",
       "      <td>4</td>\n",
       "      <td>2011/12</td>\n",
       "      <td>29th</td>\n",
       "      <td>Feb 27 2012</td>\n",
       "      <td>Dhaka Gladiators</td>\n",
       "      <td>116</td>\n",
       "      <td>Duronto Rajshahi</td>\n",
       "      <td>120/7</td>\n",
       "      <td>Mohammad Sami</td>\n",
       "      <td>Dhaka Gladiators</td>\n",
       "      <td>bat first</td>\n",
       "      <td>Rajshahi</td>\n",
       "      <td>Shere Bangla National Stadium, Mirpur</td>\n",
       "      <td>Mirpur</td>\n",
       "      <td>3</td>\n",
       "      <td>0</td>\n",
       "      <td>3 wickets</td>\n",
       "      <td>Mahfuzur Rahman</td>\n",
       "      <td>Nadir Shah</td>\n",
       "    </tr>\n",
       "    <tr>\n",
       "      <th>309</th>\n",
       "      <td>2</td>\n",
       "      <td>2011/12</td>\n",
       "      <td>1st</td>\n",
       "      <td>Feb 28 2012</td>\n",
       "      <td>Duronto Rajshahi</td>\n",
       "      <td>184/6</td>\n",
       "      <td>Barisal Burners</td>\n",
       "      <td>189/2</td>\n",
       "      <td>Ahmed Shehzad</td>\n",
       "      <td>Barisal Burners</td>\n",
       "      <td>field first</td>\n",
       "      <td>Barisal</td>\n",
       "      <td>Shere Bangla National Stadium, Mirpur</td>\n",
       "      <td>Mirpur</td>\n",
       "      <td>8</td>\n",
       "      <td>0</td>\n",
       "      <td>8 wickets</td>\n",
       "      <td>David Orchard</td>\n",
       "      <td>Sharfuddoula</td>\n",
       "    </tr>\n",
       "    <tr>\n",
       "      <th>310</th>\n",
       "      <td>1</td>\n",
       "      <td>2011/12</td>\n",
       "      <td>2nd</td>\n",
       "      <td>Feb 28 2012</td>\n",
       "      <td>Dhaka Gladiators</td>\n",
       "      <td>191/4</td>\n",
       "      <td>Khulna Royal Bengals</td>\n",
       "      <td>182/7</td>\n",
       "      <td>Azhar Mahmood</td>\n",
       "      <td>Dhaka Gladiators</td>\n",
       "      <td>bat first</td>\n",
       "      <td>Dhaka</td>\n",
       "      <td>Shere Bangla National Stadium, Mirpur</td>\n",
       "      <td>Mirpur</td>\n",
       "      <td>0</td>\n",
       "      <td>9</td>\n",
       "      <td>9 runs</td>\n",
       "      <td>Enamul Haque</td>\n",
       "      <td>Nadir Shah</td>\n",
       "    </tr>\n",
       "  </tbody>\n",
       "</table>\n",
       "<p>204 rows × 19 columns</p>\n",
       "</div>"
      ],
      "text/plain": [
       "     id   season match_no         date                team_1 team_1_score  \\\n",
       "0     0  2011/12    Final  Feb 29 2012       Barisal Burners        140/7   \n",
       "1    30  2011/12      3rd  Feb 11 2012  Khulna Royal Bengals        175/5   \n",
       "2    26  2011/12      7th  Feb 13 2012       Barisal Burners          125   \n",
       "3    29  2011/12      4th  Feb 11 2012       Barisal Burners        180/2   \n",
       "4    28  2011/12      5th  Feb 12 2012  Khulna Royal Bengals        171/3   \n",
       "..   ..      ...      ...          ...                   ...          ...   \n",
       "306   6  2011/12     27th  Feb 26 2012  Khulna Royal Bengals          106   \n",
       "307   5  2011/12     28th  Feb 26 2012      Chittagong Kings        150/9   \n",
       "308   4  2011/12     29th  Feb 27 2012      Dhaka Gladiators          116   \n",
       "309   2  2011/12      1st  Feb 28 2012      Duronto Rajshahi        184/6   \n",
       "310   1  2011/12      2nd  Feb 28 2012      Dhaka Gladiators        191/4   \n",
       "\n",
       "                   team_2 team_2_score player_of_match           toss_winner  \\\n",
       "0        Dhaka Gladiators        144/2     Imran Nazir      Dhaka Gladiators   \n",
       "1        Dhaka Gladiators        156/7   Andre Russell  Khulna Royal Bengals   \n",
       "2    Khulna Royal Bengals        131/3    Dwayne Smith  Khulna Royal Bengals   \n",
       "3        Duronto Rajshahi        158/9   Ahmed Shehzad       Barisal Burners   \n",
       "4        Chittagong Kings        174/4   Nasir Jamshed  Khulna Royal Bengals   \n",
       "..                    ...          ...             ...                   ...   \n",
       "306      Duronto Rajshahi        110/2     Sean Ervine  Khulna Royal Bengals   \n",
       "307       Barisal Burners        151/5      Brad Hodge       Barisal Burners   \n",
       "308      Duronto Rajshahi        120/7   Mohammad Sami      Dhaka Gladiators   \n",
       "309       Barisal Burners        189/2   Ahmed Shehzad       Barisal Burners   \n",
       "310  Khulna Royal Bengals        182/7   Azhar Mahmood      Dhaka Gladiators   \n",
       "\n",
       "    toss_decision      winner                                  venue    city  \\\n",
       "0     field first       Dhaka  Shere Bangla National Stadium, Mirpur  Mirpur   \n",
       "1       bat first      Khulna  Shere Bangla National Stadium, Mirpur  Mirpur   \n",
       "2     field first      Khulna  Shere Bangla National Stadium, Mirpur  Mirpur   \n",
       "3       bat first     Barisal  Shere Bangla National Stadium, Mirpur  Mirpur   \n",
       "4       bat first  Chittagong  Shere Bangla National Stadium, Mirpur  Mirpur   \n",
       "..            ...         ...                                    ...     ...   \n",
       "306     bat first    Rajshahi  Shere Bangla National Stadium, Mirpur  Mirpur   \n",
       "307   field first     Barisal  Shere Bangla National Stadium, Mirpur  Mirpur   \n",
       "308     bat first    Rajshahi  Shere Bangla National Stadium, Mirpur  Mirpur   \n",
       "309   field first     Barisal  Shere Bangla National Stadium, Mirpur  Mirpur   \n",
       "310     bat first       Dhaka  Shere Bangla National Stadium, Mirpur  Mirpur   \n",
       "\n",
       "     win_by_wickets  win_by_runs     result         umpire_1       umpire_2  \n",
       "0                 8            0  8 wickets    David Orchard   Enamul Haque  \n",
       "1                 0           19    19 runs    Jeremy Lloyds   Sharfuddoula  \n",
       "2                 7            0  7 wickets     Enamul Haque  Jeremy Lloyds  \n",
       "3                 0           22    22 runs    David Orchard     Gazi Sohel  \n",
       "4                 6            0  6 wickets    David Orchard   Enamul Haque  \n",
       "..              ...          ...        ...              ...            ...  \n",
       "306               8            0  8 wickets    David Orchard     Nadir Shah  \n",
       "307               5            0  5 wickets       Gazi Sohel  Jeremy Lloyds  \n",
       "308               3            0  3 wickets  Mahfuzur Rahman     Nadir Shah  \n",
       "309               8            0  8 wickets    David Orchard   Sharfuddoula  \n",
       "310               0            9     9 runs     Enamul Haque     Nadir Shah  \n",
       "\n",
       "[204 rows x 19 columns]"
      ]
     },
     "execution_count": 80,
     "metadata": {},
     "output_type": "execute_result"
    }
   ],
   "source": [
    "city_matches"
   ]
  },
  {
   "cell_type": "code",
   "execution_count": 81,
   "id": "646ee6f7",
   "metadata": {},
   "outputs": [],
   "source": [
    "winner_in_city = city_matches['winner'].value_counts()"
   ]
  },
  {
   "cell_type": "code",
   "execution_count": 82,
   "id": "2b05ef47",
   "metadata": {},
   "outputs": [
    {
     "data": {
      "text/plain": [
       "winner\n",
       "Victorians     26\n",
       "Dynamites      26\n",
       "Riders         21\n",
       "Dhaka          15\n",
       "Royals         13\n",
       "Kings          12\n",
       "Chittagong     10\n",
       "Titans         10\n",
       "Bulls           9\n",
       "Tigers          9\n",
       "Vikings         9\n",
       "Rajshahi        8\n",
       "Barisal         8\n",
       "Challengers     7\n",
       "Platoon         4\n",
       "Warriors        3\n",
       "Sixers          3\n",
       "Khulna          3\n",
       "Rangers         3\n",
       "Super           2\n",
       "Barishal        1\n",
       "Match           1\n",
       "Sunrisers       1\n",
       "Name: count, dtype: int64"
      ]
     },
     "execution_count": 82,
     "metadata": {},
     "output_type": "execute_result"
    }
   ],
   "source": [
    "winner_in_city"
   ]
  },
  {
   "cell_type": "code",
   "execution_count": null,
   "id": "d710328b",
   "metadata": {},
   "outputs": [],
   "source": []
  }
 ],
 "metadata": {
  "kernelspec": {
   "display_name": "Python 3 (ipykernel)",
   "language": "python",
   "name": "python3"
  },
  "language_info": {
   "codemirror_mode": {
    "name": "ipython",
    "version": 3
   },
   "file_extension": ".py",
   "mimetype": "text/x-python",
   "name": "python",
   "nbconvert_exporter": "python",
   "pygments_lexer": "ipython3",
   "version": "3.11.5"
  }
 },
 "nbformat": 4,
 "nbformat_minor": 5
}
